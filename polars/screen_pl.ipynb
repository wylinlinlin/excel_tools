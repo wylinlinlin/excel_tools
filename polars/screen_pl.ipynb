{
 "cells": [
  {
   "cell_type": "code",
   "execution_count": 6,
   "metadata": {},
   "outputs": [],
   "source": [
    "import polars as pl\n",
    "from rich.progress import track"
   ]
  },
  {
   "cell_type": "code",
   "execution_count": 3,
   "metadata": {},
   "outputs": [
    {
     "data": {
      "text/html": [
       "<div><style>\n",
       ".dataframe > thead > tr > th,\n",
       ".dataframe > tbody > tr > td {\n",
       "  text-align: right;\n",
       "}\n",
       "</style>\n",
       "<small>shape: (5, 25)</small><table border=\"1\" class=\"dataframe\"><thead><tr><th>CMTE_ID</th><th>AMNDT_IND</th><th>RPT_YR</th><th>RPT_TP</th><th>IMAGE_NUM</th><th>LINE_NUM</th><th>FORM_TP_CD</th><th>SCHED_TP_CD</th><th>NAME</th><th>CITY</th><th>STATE</th><th>ZIP_CODE</th><th>TRANSACTION_DT</th><th>TRANSACTION_AMT</th><th>TRANSACTION_PGI</th><th>PURPOSE</th><th>CATEGORY</th><th>CATEGORY_DESC</th><th>MEMO_CD</th><th>MEMO_TEXT</th><th>ENTITY_TP</th><th>SUB_ID</th><th>FILE_NUM</th><th>TRAN_ID</th><th>BACK_REF_TRAN_ID</th></tr><tr><td>str</td><td>str</td><td>str</td><td>str</td><td>str</td><td>str</td><td>str</td><td>str</td><td>str</td><td>str</td><td>str</td><td>str</td><td>str</td><td>str</td><td>str</td><td>str</td><td>str</td><td>str</td><td>str</td><td>str</td><td>str</td><td>str</td><td>str</td><td>str</td><td>str</td></tr></thead><tbody><tr><td>&quot;C00639872&quot;</td><td>&quot;T&quot;</td><td>&quot;2019&quot;</td><td>&quot;TER&quot;</td><td>&quot;20190120914389...</td><td>&quot;17&quot;</td><td>&quot;F3&quot;</td><td>&quot;SB&quot;</td><td>&quot;ADMINISTRATIVE...</td><td>&quot;CHARLOTTE&quot;</td><td>&quot;NC&quot;</td><td>&quot;282134290&quot;</td><td>&quot;01/16/2019&quot;</td><td>&quot;365.51&quot;</td><td>&quot;G2018&quot;</td><td>&quot;ACCOUNTING AND...</td><td>null</td><td>null</td><td>null</td><td>null</td><td>&quot;ORG&quot;</td><td>&quot;40215201916395...</td><td>&quot;1305744&quot;</td><td>&quot;VTPY09W3DX1&quot;</td><td>null</td></tr><tr><td>&quot;C00639872&quot;</td><td>&quot;T&quot;</td><td>&quot;2019&quot;</td><td>&quot;TER&quot;</td><td>&quot;20190120914389...</td><td>&quot;17&quot;</td><td>&quot;F3&quot;</td><td>&quot;SB&quot;</td><td>&quot;ADP INC&quot;</td><td>&quot;ROSELAND&quot;</td><td>&quot;NJ&quot;</td><td>&quot;070681728&quot;</td><td>&quot;01/04/2019&quot;</td><td>&quot;65.63&quot;</td><td>&quot;G2018&quot;</td><td>&quot;PAYROLL FEES&quot;</td><td>null</td><td>null</td><td>null</td><td>null</td><td>&quot;ORG&quot;</td><td>&quot;40215201916395...</td><td>&quot;1305744&quot;</td><td>&quot;VTPY09W2JW7&quot;</td><td>null</td></tr><tr><td>&quot;C00639872&quot;</td><td>&quot;T&quot;</td><td>&quot;2019&quot;</td><td>&quot;TER&quot;</td><td>&quot;20190120914389...</td><td>&quot;17&quot;</td><td>&quot;F3&quot;</td><td>&quot;SB&quot;</td><td>&quot;HUSTLE INC&quot;</td><td>&quot;SAN FRANCISCO&quot;</td><td>&quot;CA&quot;</td><td>&quot;941084547&quot;</td><td>&quot;01/03/2019&quot;</td><td>&quot;4399.01&quot;</td><td>&quot;G2018&quot;</td><td>&quot;ADVERTISING &amp; ...</td><td>null</td><td>null</td><td>null</td><td>null</td><td>&quot;ORG&quot;</td><td>&quot;40215201916395...</td><td>&quot;1305744&quot;</td><td>&quot;VTPY09W2KA8&quot;</td><td>null</td></tr><tr><td>&quot;C00639872&quot;</td><td>&quot;T&quot;</td><td>&quot;2019&quot;</td><td>&quot;TER&quot;</td><td>&quot;20190120914389...</td><td>&quot;17&quot;</td><td>&quot;F3&quot;</td><td>&quot;SB&quot;</td><td>&quot;NGP VAN INC.&quot;</td><td>&quot;WASHINGTON&quot;</td><td>&quot;DC&quot;</td><td>&quot;200052157&quot;</td><td>&quot;01/15/2019&quot;</td><td>&quot;150.0&quot;</td><td>&quot;G2018&quot;</td><td>&quot;COMPLIANCE SOF...</td><td>null</td><td>null</td><td>null</td><td>null</td><td>&quot;ORG&quot;</td><td>&quot;40215201916395...</td><td>&quot;1305744&quot;</td><td>&quot;VTPY09W3DV6&quot;</td><td>null</td></tr><tr><td>&quot;C00432906&quot;</td><td>&quot;T&quot;</td><td>&quot;2019&quot;</td><td>&quot;TER&quot;</td><td>&quot;20190121914390...</td><td>&quot;17&quot;</td><td>&quot;F3&quot;</td><td>&quot;SB&quot;</td><td>&quot;ELECTEK USA&quot;</td><td>&quot;CHAGRIN FALLS&quot;</td><td>&quot;OH&quot;</td><td>&quot;44023&quot;</td><td>&quot;01/18/2019&quot;</td><td>&quot;-400.0&quot;</td><td>null</td><td>&quot;VOID OF PREVIO...</td><td>&quot;1.0&quot;</td><td>&quot;Administrative...</td><td>null</td><td>null</td><td>&quot;ORG&quot;</td><td>&quot;40213201916394...</td><td>&quot;1305860&quot;</td><td>&quot;SB17.55757&quot;</td><td>null</td></tr></tbody></table></div>"
      ],
      "text/plain": [
       "shape: (5, 25)\n",
       "┌───────────┬───────────┬────────┬────────┬─────┬─────────────┬──────────┬────────────┬────────────┐\n",
       "│ CMTE_ID   ┆ AMNDT_IND ┆ RPT_YR ┆ RPT_TP ┆ ... ┆ SUB_ID      ┆ FILE_NUM ┆ TRAN_ID    ┆ BACK_REF_T │\n",
       "│ ---       ┆ ---       ┆ ---    ┆ ---    ┆     ┆ ---         ┆ ---      ┆ ---        ┆ RAN_ID     │\n",
       "│ str       ┆ str       ┆ str    ┆ str    ┆     ┆ str         ┆ str      ┆ str        ┆ ---        │\n",
       "│           ┆           ┆        ┆        ┆     ┆             ┆          ┆            ┆ str        │\n",
       "╞═══════════╪═══════════╪════════╪════════╪═════╪═════════════╪══════════╪════════════╪════════════╡\n",
       "│ C00639872 ┆ T         ┆ 2019   ┆ TER    ┆ ... ┆ 40215201916 ┆ 1305744  ┆ VTPY09W3DX ┆ null       │\n",
       "│           ┆           ┆        ┆        ┆     ┆ 39587673    ┆          ┆ 1          ┆            │\n",
       "│ C00639872 ┆ T         ┆ 2019   ┆ TER    ┆ ... ┆ 40215201916 ┆ 1305744  ┆ VTPY09W2JW ┆ null       │\n",
       "│           ┆           ┆        ┆        ┆     ┆ 39587675    ┆          ┆ 7          ┆            │\n",
       "│ C00639872 ┆ T         ┆ 2019   ┆ TER    ┆ ... ┆ 40215201916 ┆ 1305744  ┆ VTPY09W2KA ┆ null       │\n",
       "│           ┆           ┆        ┆        ┆     ┆ 39587677    ┆          ┆ 8          ┆            │\n",
       "│ C00639872 ┆ T         ┆ 2019   ┆ TER    ┆ ... ┆ 40215201916 ┆ 1305744  ┆ VTPY09W3DV ┆ null       │\n",
       "│           ┆           ┆        ┆        ┆     ┆ 39587679    ┆          ┆ 6          ┆            │\n",
       "│ C00432906 ┆ T         ┆ 2019   ┆ TER    ┆ ... ┆ 40213201916 ┆ 1305860  ┆ SB17.55757 ┆ null       │\n",
       "│           ┆           ┆        ┆        ┆     ┆ 39407447    ┆          ┆            ┆            │\n",
       "└───────────┴───────────┴────────┴────────┴─────┴─────────────┴──────────┴────────────┴────────────┘"
      ]
     },
     "execution_count": 3,
     "metadata": {},
     "output_type": "execute_result"
    }
   ],
   "source": [
    "df = pl.read_csv(\n",
    "    r\"E:\\Desktop\\test_data\\Operating expenditures.csv\", \n",
    "    infer_schema_length=0).with_columns(pl.all().cast(pl.Utf8))\n",
    "df.head()"
   ]
  },
  {
   "cell_type": "code",
   "execution_count": 49,
   "metadata": {},
   "outputs": [
    {
     "name": "stdout",
     "output_type": "stream",
     "text": [
      "10\n",
      "C00639872\n"
     ]
    }
   ],
   "source": [
    "with open(r'E:\\Desktop\\test_data\\conditions.txt', 'r', encoding='utf-8') as fp:\n",
    "    condtions = fp.readlines()\n",
    "lst_cond = [cond.strip(\"\\n\") for cond in condtions]\n",
    "print(len(lst_cond))\n",
    "print(lst_cond[0])"
   ]
  },
  {
   "cell_type": "code",
   "execution_count": null,
   "metadata": {},
   "outputs": [],
   "source": [
    "save_path = r\"E:\\Desktop\\test_data\\mer\"\n",
    "lst_tmp: list = []\n",
    "for cond in track(range(len(lst_cond))):\n",
    "    df_screen = df.filter(pl.col(\"CMTE_ID\") == lst_cond[cond])\n",
    "    lst_tmp.append(df_screen)\n",
    "df_need = pl.concat(lst_tmp, how=\"diagonal\")\n",
    "if len(df_need) < 50_0001:\n",
    "    df_need.write_excel(f\"{save_path}/screen.xlsx\")\n",
    "    print(f\"xlsx is screened.\")\n",
    "else:\n",
    "    df_need.write_csv(f\"{save_path}/screen.csv\")\n",
    "    print(f\"csv is screened.\")"
   ]
  }
 ],
 "metadata": {
  "kernelspec": {
   "display_name": "Python 3",
   "language": "python",
   "name": "python3"
  },
  "language_info": {
   "codemirror_mode": {
    "name": "ipython",
    "version": 3
   },
   "file_extension": ".py",
   "mimetype": "text/x-python",
   "name": "python",
   "nbconvert_exporter": "python",
   "pygments_lexer": "ipython3",
   "version": "3.9.7"
  },
  "orig_nbformat": 4
 },
 "nbformat": 4,
 "nbformat_minor": 2
}
