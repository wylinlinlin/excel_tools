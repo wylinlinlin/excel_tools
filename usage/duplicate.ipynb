{
 "cells": [
  {
   "cell_type": "code",
   "execution_count": null,
   "id": "f351aa42",
   "metadata": {},
   "outputs": [],
   "source": [
    "import pandas as pd\n",
    "\n",
    "df = pd.read_excel(r'C:\\Users\\hanstan\\Desktop\\460519\\sub\\明应序时账.xlsx', dtype=object)\n",
    "df.head()"
   ]
  },
  {
   "cell_type": "code",
   "execution_count": null,
   "id": "f77bca0c",
   "metadata": {},
   "outputs": [],
   "source": [
    "df.columns"
   ]
  },
  {
   "cell_type": "code",
   "execution_count": null,
   "id": "cc1cc0ce",
   "metadata": {},
   "outputs": [],
   "source": [
    "df_new = pd.DataFrame(df, columns=df.columns)\n",
    "df_new.head()"
   ]
  },
  {
   "cell_type": "code",
   "execution_count": null,
   "id": "7f95ca85",
   "metadata": {},
   "outputs": [],
   "source": [
    "keys = df.columns\n",
    "\n",
    "df[\"add\"] = df[keys].astype(str).sum(1)\n",
    "\n",
    "df.head()"
   ]
  },
  {
   "cell_type": "code",
   "execution_count": null,
   "id": "5daca7e8",
   "metadata": {},
   "outputs": [],
   "source": [
    "len(df) / 2"
   ]
  },
  {
   "cell_type": "code",
   "execution_count": null,
   "id": "6adb744c",
   "metadata": {},
   "outputs": [],
   "source": [
    "new_df = df.drop_duplicates(subset='add', keep='first', inplace=False, ignore_index=False)\n",
    "len(new_df)"
   ]
  },
  {
   "cell_type": "code",
   "execution_count": null,
   "id": "9e398373",
   "metadata": {},
   "outputs": [],
   "source": [
    "del new_df[\"add\"]"
   ]
  },
  {
   "cell_type": "code",
   "execution_count": null,
   "id": "5fc6dca0",
   "metadata": {},
   "outputs": [],
   "source": [
    "new_df.to_excel(r'C:\\Users\\hanstan\\Desktop\\460519\\sub\\my.xlsx', index=False, encoding=\"gbk\")"
   ]
  }
 ],
 "metadata": {
  "kernelspec": {
   "display_name": "Python 3.9.12 ('base')",
   "language": "python",
   "name": "python3"
  },
  "language_info": {
   "codemirror_mode": {
    "name": "ipython",
    "version": 3
   },
   "file_extension": ".py",
   "mimetype": "text/x-python",
   "name": "python",
   "nbconvert_exporter": "python",
   "pygments_lexer": "ipython3",
   "version": "3.9.12"
  },
  "vscode": {
   "interpreter": {
    "hash": "d1ea76a8853af5d989886780aa980a7007451d53aae4c1c1c03a6c2d170665cb"
   }
  }
 },
 "nbformat": 4,
 "nbformat_minor": 5
}
