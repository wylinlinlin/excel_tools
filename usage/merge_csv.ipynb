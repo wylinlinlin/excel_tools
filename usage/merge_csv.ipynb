{
 "cells": [
  {
   "cell_type": "code",
   "execution_count": null,
   "metadata": {},
   "outputs": [],
   "source": [
    "# merge csv and excel in the same folder\n",
    "import os\n",
    "import pandas as pd\n",
    "\n",
    "file_list = list()\n",
    "init_path = r\"C:\\Users\\hanstan\\Desktop\\430576\\中国有序时账汇总\\mer\"\n",
    "files = os.listdir(init_path)\n",
    "for file in range(len(files)):\n",
    "    try:\n",
    "        df = pd.read_excel(f\"{init_path}/{files[file]}\", dtype=object, skiprows=5, usecols=\"B:P\")\n",
    "    except:\n",
    "        df = pd.read_csv(f\"{init_path}/{files[file]}\", dtype=object, encoding=\"utf-8\")\n",
    "    # df[\"excel_name\"] = files[file][:-5]\n",
    "    df.insert(loc=0, column='公司', value=files[file][:3])  # insert 1 column\n",
    "    df.drop(index=df.loc[(df[\"余额\"].isnull())].index, inplace=True)  # delete rows\n",
    "    # df[\"len\"] = df[\"总账日期\"].str.len()  # get length\n",
    "    # df = df.loc[(df[\"len\"].isna()) & (~df[\"总账日期\"].isna())]\n",
    "    df[\"借方金额\"] = df[\"借方金额\"].astype(float)\n",
    "    df[\"贷方金额\"] = df[\"贷方金额\"].astype(float)\n",
    "    dr = df[\"借方金额\"].sum()\n",
    "    cr = df[\"贷方金额\"].sum()\n",
    "    with open(r\"C:\\Users\\hanstan\\Desktop\\430576\\中国有序时账汇总\\check_COMPLETE.txt\", \"a+\", encoding=\"utf-8\") as fp:\n",
    "        fp.write(f\"{files[file][:3]} Dr {dr} Cr {cr}\\n\")\n",
    "    print(f\"{str(file+1)} {files[file]} is loded.\")\n",
    "    file_list.append(df)\n",
    "all_file = pd.concat(file_list, axis=0, ignore_index=False, sort=False)\n",
    "save_name = \"中国有序时账汇总_complete\"\n",
    "try:\n",
    "    all_file.to_excel(f\"{init_path}/{save_name}.xlsx\", index=False, encoding=\"gbk\")\n",
    "    print(f\"{save_name}.xlsx is merged.\")\n",
    "except:\n",
    "    all_file.to_csv(f\"{init_path}/{save_name}.csv\", index=False, encoding=\"utf-8\")\n",
    "    print(f\"{save_name}.csv is merged.\")"
   ]
  },
  {
   "cell_type": "code",
   "execution_count": 1,
   "metadata": {},
   "outputs": [
    {
     "name": "stdout",
     "output_type": "stream",
     "text": [
      "1 22_7nna.csv is loded.\n",
      "2 22_8nna.csv is loded.\n",
      "3 22_9nna.csv is loded.\n",
      "7to12nna.csv is merged.\n"
     ]
    }
   ],
   "source": [
    "# merge csv and excel to a csv in the same folder\n",
    "import os\n",
    "import pandas as pd\n",
    "\n",
    "file_list = list()\n",
    "init_path = r\"C:\\Users\\hanstan\\Desktop\\433383\\init_data\\mer7to12nna\"\n",
    "files = os.listdir(init_path)\n",
    "for file in range(len(files)):\n",
    "    try:\n",
    "        df = pd.read_excel(f\"{init_path}/{files[file]}\", dtype=object)\n",
    "    except:\n",
    "        df = pd.read_csv(f\"{init_path}/{files[file]}\", dtype=object, encoding=\"utf-8\")\n",
    "    # df.insert(loc=0, column='公司', value=files[file][:-11])\n",
    "    print(f\"{str(file+1)} {files[file]} is loded.\")\n",
    "    file_list.append(df)\n",
    "all_file = pd.concat(file_list, axis=0, ignore_index=False, sort=False)\n",
    "save_name = \"7to12nna\"\n",
    "try:\n",
    "    all_file.to_excel(f\"{init_path}/{save_name}.xlsx\", index=False, encoding=\"gbk\")\n",
    "    print(f\"{save_name}.xlsx is merged.\")\n",
    "except:\n",
    "    all_file.to_csv(f\"{init_path}/{save_name}.csv\", index=False, encoding=\"utf-8\")\n",
    "    print(f\"{save_name}.csv is merged.\")"
   ]
  },
  {
   "cell_type": "code",
   "execution_count": null,
   "metadata": {},
   "outputs": [],
   "source": [
    "import os\n",
    "import pandas as pd\n",
    "\n",
    "file_list = list()\n",
    "init_path = r\"C:\\Users\\hanstan\\Desktop\\483810\\intimate\"\n",
    "files = os.listdir(init_path)\n",
    "for file in range(len(files)):\n",
    "    try:\n",
    "        df = pd.read_excel(f\"{init_path}/{files[file]}\", dtype=object)\n",
    "    except:\n",
    "        df = pd.read_csv(f\"{init_path}/{files[file]}\", dtype=object, encoding=\"utf_8_sig\")\n",
    "    with open(r\"C:\\Users\\hanstan\\Desktop\\483810\\inti_len.txt\", \"a+\", encoding=\"utf-8\") as fp:\n",
    "        fp.write(f\"{files[file]} -> {len(df)}\\n\")\n",
    "    print(f\"{str(file+1)} {files[file]} is loded.\")"
   ]
  }
 ],
 "metadata": {
  "kernelspec": {
   "display_name": "Python 3.9.12 ('base')",
   "language": "python",
   "name": "python3"
  },
  "language_info": {
   "codemirror_mode": {
    "name": "ipython",
    "version": 3
   },
   "file_extension": ".py",
   "mimetype": "text/x-python",
   "name": "python",
   "nbconvert_exporter": "python",
   "pygments_lexer": "ipython3",
   "version": "3.9.12"
  },
  "orig_nbformat": 4,
  "vscode": {
   "interpreter": {
    "hash": "d1ea76a8853af5d989886780aa980a7007451d53aae4c1c1c03a6c2d170665cb"
   }
  }
 },
 "nbformat": 4,
 "nbformat_minor": 2
}
