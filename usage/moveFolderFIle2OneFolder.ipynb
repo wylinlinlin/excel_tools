{
 "cells": [
  {
   "cell_type": "code",
   "execution_count": null,
   "metadata": {},
   "outputs": [],
   "source": [
    "#coding=utf-8\n",
    "import os\n",
    "import shutil\n",
    "\n",
    "old_path = r'C:\\Users\\Desktop\\submit'  # 要复制的文件所在目录\n",
    "new_path = r'C:\\Users\\Desktop\\subForPath'  #新路径\n",
    "\n",
    "def FindFile(path):\n",
    "    for ipath in os.listdir(path):\n",
    "        fulldir = os.path.join(path, ipath)  # 拼接成绝对路径\n",
    "        print(fulldir)         #打印相关后缀的文件路径及名称\n",
    "        if os.path.isfile(fulldir):  # 文件，匹配->打印\n",
    "            shutil.copy(fulldir,new_path)\n",
    "        if os.path.isdir(fulldir):  # 目录，递归   \n",
    "            FindFile(fulldir)\n",
    "\n",
    "FindFile(old_path)\n"
   ]
  },
  {
   "cell_type": "code",
   "execution_count": 3,
   "metadata": {},
   "outputs": [],
   "source": [
    "import os\n",
    "\n",
    "init_path = r\"C:\\Users\\Desktop\\gl\"\n",
    "\n",
    "lst_path = os.listdir(init_path)\n",
    "\n",
    "for i in range(len(lst_path)):\n",
    "    with open(f\"{init_path}/tar.txt\", \"a+\", encoding=\"utf-8\") as fp:\n",
    "        fp.write(lst_path[i][:-11] + \"\\n\")"
   ]
  },
  {
   "cell_type": "code",
   "execution_count": null,
   "metadata": {},
   "outputs": [],
   "source": []
  }
 ],
 "metadata": {
  "kernelspec": {
   "display_name": "Python 3.9.12 ('base')",
   "language": "python",
   "name": "python3"
  },
  "language_info": {
   "codemirror_mode": {
    "name": "ipython",
    "version": 3
   },
   "file_extension": ".py",
   "mimetype": "text/x-python",
   "name": "python",
   "nbconvert_exporter": "python",
   "pygments_lexer": "ipython3",
   "version": "3.9.12 (main, Apr  4 2022, 05:22:27) [MSC v.1916 64 bit (AMD64)]"
  },
  "orig_nbformat": 4,
  "vscode": {
   "interpreter": {
    "hash": "d1ea76a8853af5d989886780aa980a7007451d53aae4c1c1c03a6c2d170665cb"
   }
  }
 },
 "nbformat": 4,
 "nbformat_minor": 2
}
