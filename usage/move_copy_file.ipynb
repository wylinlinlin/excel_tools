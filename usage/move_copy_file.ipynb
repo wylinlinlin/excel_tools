{
 "cells": [
  {
   "cell_type": "code",
   "execution_count": null,
   "id": "276ab232",
   "metadata": {},
   "outputs": [],
   "source": [
    "with open('C:/Users/Desktop/rem1.txt', 'r', encoding='utf-8') as fp:\n",
    "        lines = fp.readlines()\n",
    "\n",
    "line_name = []\n",
    "for line in lines:\n",
    "    line = line.strip('\\n')\n",
    "    line_name.append(line+'.csv')\n",
    "#     line_name.append(line)\n",
    "line_name"
   ]
  },
  {
   "cell_type": "code",
   "execution_count": null,
   "id": "791d12df",
   "metadata": {
    "scrolled": true
   },
   "outputs": [],
   "source": [
    "import os\n",
    "import shutil\n",
    "\n",
    "src = 'C:/Users/Desktop/init'\n",
    "dst = 'C:/Users/Desktop/del1'\n",
    "\n",
    "# src = os.path.join(src)\n",
    "src1 = os.listdir(src)\n",
    "src1"
   ]
  },
  {
   "cell_type": "code",
   "execution_count": null,
   "id": "f0580c45",
   "metadata": {},
   "outputs": [],
   "source": [
    "src + src1[0]"
   ]
  },
  {
   "cell_type": "code",
   "execution_count": null,
   "id": "75934a01",
   "metadata": {
    "scrolled": true
   },
   "outputs": [],
   "source": [
    "import os\n",
    "import shutil\n",
    "\n",
    "\n",
    "for i in range(len(src1)):\n",
    "    try:\n",
    "        if src1[i] in line_name:\n",
    "            shutil.move(src + '/' + src1[i], dst)\n",
    "            print(src1[i] + ' moved')\n",
    "    except:\n",
    "        pass\n",
    "#         with open('C:/Users/Desktop/submit/bt1/list.txt', 'a+', encoding='utf-8') as fp:\n",
    "#             fp.write(src1[i]+'\\n')\n",
    "    else:\n",
    "        pass\n",
    "# work_dir = os.getcwd() # 获取绝对路径\n",
    "# src = os.path.join()\n",
    "# dst = os.path.join()\n",
    "# shutil.move(src, dst) #移动图片\n",
    "# shutil.copyfile(src, dst) #复制图片\n"
   ]
  },
  {
   "cell_type": "code",
   "execution_count": null,
   "id": "80cbbf79",
   "metadata": {},
   "outputs": [],
   "source": [
    "dst1 = os.listdir(dst)\n",
    "len(dst1)"
   ]
  },
  {
   "cell_type": "code",
   "execution_count": null,
   "id": "caa74cd7",
   "metadata": {},
   "outputs": [],
   "source": [
    "for i in range(len(line_name)):\n",
    "    if line_name[i] not in dst1:\n",
    "        print(line_name[i])"
   ]
  },
  {
   "cell_type": "code",
   "execution_count": null,
   "id": "811de81b",
   "metadata": {},
   "outputs": [],
   "source": [
    "import os\n",
    "import shutil\n",
    "\n",
    "# 获取当前目录下所有文件及目录\n",
    "init_path = \"C:/Users/Desktop/\"\n",
    "dst_path = \"C:/Users/Desktop/moveFile/\"\n",
    "\n",
    "with open(\"C:/Users/Desktop/name.txt\", \"r\", encoding=\"utf-8\") as fp:\n",
    "    lines = fp.readlines()\n",
    "\n",
    "lst_lines = [line.strip(\"\\n\") for line in lines]\n",
    "\n",
    "src_path = os.listdir(init_path)\n",
    "\n",
    "for i in range(len(src_path)):\n",
    "    try:\n",
    "        if src_path[i][:-11] in lst_lines:\n",
    "            if not os.path.exists(src_path[i][:-11]):\n",
    "                move_path = f\"{dst_path}{src_path[i][:-11]}\"\n",
    "                os.mkdir(move_path)\n",
    "                shutil.move(f\"{init_path}{src_path}\", move_path)\n",
    "                print(f\"{src_path[i]} moved\")\n",
    "    except Exception as e:\n",
    "        print(e)\n",
    "\n",
    "# for line in lst_lines:\n",
    "#     os.mkdir(init_path + line + \"/\")"
   ]
  },
  {
   "cell_type": "code",
   "execution_count": null,
   "id": "5230b08a",
   "metadata": {},
   "outputs": [],
   "source": [
    "# move file to same name folder\n",
    "import os\n",
    "import shutil\n",
    "\n",
    "init_path_ = r\"C:\\Users\\Desktop\\lq\"\n",
    "init_path = f\"{init_path_}/\"\n",
    "dst_path_ = r\"C:\\Users\\Desktop\\up\"\n",
    "dst_path = f\"{dst_path_}/\"\n",
    "\n",
    "src_path = os.listdir(init_path)\n",
    "\n",
    "for file in range(len(src_path)):\n",
    "    if os.path.isdir(src_path[file]) == src_path[file]:\n",
    "        continue\n",
    "    dirName = os.path.splitext(src_path[file])[0][:-6]\n",
    "    try:\n",
    "        if not os.path.exists(f\"{dst_path}{dirName}\"):\n",
    "            os.mkdir(f\"{dst_path}{dirName}\")\n",
    "        shutil.move(f\"{init_path}{src_path[file]}\", f\"{dst_path}{dirName}\")\n",
    "        print(f\"{file} -> {src_path[file]} moved\")\n",
    "    except Exception as e:\n",
    "        print(e)\n",
    "print(f\"{len(src_path)} files moved\")"
   ]
  },
  {
   "cell_type": "code",
   "execution_count": null,
   "id": "d18dab0b",
   "metadata": {},
   "outputs": [],
   "source": [
    "# 读取主文件夹内 子文件夹内 的所有文件\n",
    "import os\n",
    "import pandas as pd\n",
    "\n",
    "init_path = r\"C:\\Users\\Desktop\"\n",
    "for root, dirs, files in os.walk(init_path):\n",
    "    for file in range(len(src_path)):\n",
    "        file_name = os.path.join(root, file)\n",
    "        if os.path.isdir(src_path[file]) == src_path[file]:\n",
    "            continue\n",
    "        dirName = os.path.splitext(src_path[file])[0][:-6]\n",
    "        try:\n",
    "            if not os.path.exists(f\"{dst_path}{dirName}\"):\n",
    "                os.mkdir(f\"{dst_path}{dirName}\")\n",
    "            shutil.move(f\"{init_path}{src_path[file]}\", f\"{dst_path}{dirName}\")\n",
    "            print(f\"{file} -> {src_path[file]} moved\")\n",
    "        except Exception as e:\n",
    "            print(e)\n",
    "\n",
    "    for file in files:\n",
    "        \n",
    "        df = pd.read_csv(f\"{file_name}\", dtype=object)\n",
    "        try:\n",
    "            df.to_excel(f\"{root}/{file[:-4]}.xlsx\", index=False, encoding=\"gbk\")\n",
    "            print(f\"{root}/{file[:-4]}.xlsx is saved.\")\n",
    "        except:\n",
    "            with open(f\"{init_path}/notes.txt\", \"a+\", encoding=\"utf-8\") as fp:\n",
    "                fp.write(f\"{root}/{file[:-4]}.csv\\n\")\n",
    "print(\"done.\")"
   ]
  }
 ],
 "metadata": {
  "kernelspec": {
   "display_name": "Python 3.9.12 ('base')",
   "language": "python",
   "name": "python3"
  },
  "language_info": {
   "codemirror_mode": {
    "name": "ipython",
    "version": 3
   },
   "file_extension": ".py",
   "mimetype": "text/x-python",
   "name": "python",
   "nbconvert_exporter": "python",
   "pygments_lexer": "ipython3",
   "version": "3.9.12"
  },
  "vscode": {
   "interpreter": {
    "hash": "d1ea76a8853af5d989886780aa980a7007451d53aae4c1c1c03a6c2d170665cb"
   }
  }
 },
 "nbformat": 4,
 "nbformat_minor": 5
}
