{
 "cells": [
  {
   "cell_type": "code",
   "execution_count": null,
   "id": "c9ce0fd1",
   "metadata": {},
   "outputs": [],
   "source": [
    "import numpy as np\n",
    "import pandas as pd\n",
    "\n",
    "df = pd.read_csv(r'C:\\UsersDesktop\\all\\mer\\ALL.csv', dtype=object)\n",
    "df.head(3)"
   ]
  },
  {
   "cell_type": "code",
   "execution_count": null,
   "id": "56254cc9",
   "metadata": {},
   "outputs": [],
   "source": [
    "df[\"Revenue\"] = df[\"Revenue\"].astype(float)\n",
    "df[\"WIP\"] = df[\"WIP\"].astype(float)\n",
    "df[\"Cost\"] = df[\"Cost\"].astype(float)\n",
    "df[\"Accrual\"] = df[\"Accrual\"].astype(float)"
   ]
  },
  {
   "cell_type": "code",
   "execution_count": null,
   "id": "3abafa46",
   "metadata": {},
   "outputs": [],
   "source": [
    "df[\"month\"] = df[\"Recognized\"].str.split(\"-\").str[1]\n",
    "df.head(2)"
   ]
  },
  {
   "cell_type": "code",
   "execution_count": null,
   "id": "a4c8a936",
   "metadata": {},
   "outputs": [],
   "source": [
    "t12 = df.loc[df[\"Recognized\"].str.contains(\"2022-12\")]\n",
    "len(t12)"
   ]
  },
  {
   "cell_type": "code",
   "execution_count": null,
   "id": "706cb73b",
   "metadata": {},
   "outputs": [],
   "source": [
    "# pivot\n",
    "pt = pd.pivot_table(df, index=['month'], values=[\"Revenue\", \"WIP\", \"Cost\", \"Accrual\"], aggfunc=np.sum)\n",
    "pt.to_excel(r'pt1.xlsx', encoding=\"gbk\")"
   ]
  },
  {
   "cell_type": "code",
   "execution_count": null,
   "id": "47699241",
   "metadata": {},
   "outputs": [],
   "source": [
    "def row_handler(row):  # 方向\n",
    "    if row['方向'] == '借':\n",
    "        return row[\"按本位币计的金额\"] * -1\n",
    "    if row['方向'] == '贷':\n",
    "        return row[\"按本位币计的金额\"]\n",
    "\n",
    "df['a'] = df.apply(row_handler, axis=1)\n",
    "tmp = df[\"a\"].sum()\n",
    "print(tmp)"
   ]
  },
  {
   "cell_type": "code",
   "execution_count": null,
   "id": "5fb9e748",
   "metadata": {},
   "outputs": [],
   "source": []
  }
 ],
 "metadata": {
  "kernelspec": {
   "display_name": "Python 3.9.12 ('base')",
   "language": "python",
   "name": "python3"
  },
  "language_info": {
   "codemirror_mode": {
    "name": "ipython",
    "version": 3
   },
   "file_extension": ".py",
   "mimetype": "text/x-python",
   "name": "python",
   "nbconvert_exporter": "python",
   "pygments_lexer": "ipython3",
   "version": "3.9.12 (main, Apr  4 2022, 05:22:27) [MSC v.1916 64 bit (AMD64)]"
  },
  "vscode": {
   "interpreter": {
    "hash": "d1ea76a8853af5d989886780aa980a7007451d53aae4c1c1c03a6c2d170665cb"
   }
  }
 },
 "nbformat": 4,
 "nbformat_minor": 5
}
