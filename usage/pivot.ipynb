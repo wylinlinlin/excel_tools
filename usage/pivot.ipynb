{
 "cells": [
  {
   "cell_type": "code",
   "execution_count": 7,
   "id": "c9ce0fd1",
   "metadata": {},
   "outputs": [
    {
     "data": {
      "text/html": [
       "<div>\n",
       "<style scoped>\n",
       "    .dataframe tbody tr th:only-of-type {\n",
       "        vertical-align: middle;\n",
       "    }\n",
       "\n",
       "    .dataframe tbody tr th {\n",
       "        vertical-align: top;\n",
       "    }\n",
       "\n",
       "    .dataframe thead th {\n",
       "        text-align: right;\n",
       "    }\n",
       "</style>\n",
       "<table border=\"1\" class=\"dataframe\">\n",
       "  <thead>\n",
       "    <tr style=\"text-align: right;\">\n",
       "      <th></th>\n",
       "      <th>Job #</th>\n",
       "      <th>Trans</th>\n",
       "      <th>Opened</th>\n",
       "      <th>Job Brn</th>\n",
       "      <th>Job Dep</th>\n",
       "      <th>Job Stat</th>\n",
       "      <th>Local Client</th>\n",
       "      <th>Type</th>\n",
       "      <th>Charge</th>\n",
       "      <th>Recognized</th>\n",
       "      <th>Line Br</th>\n",
       "      <th>Line Dep</th>\n",
       "      <th>AR / AP Organization</th>\n",
       "      <th>Invoice Number</th>\n",
       "      <th>Revenue</th>\n",
       "      <th>WIP</th>\n",
       "      <th>Cost</th>\n",
       "      <th>Accrual</th>\n",
       "      <th>Job Profit</th>\n",
       "      <th>AR / AP Organization Name</th>\n",
       "    </tr>\n",
       "  </thead>\n",
       "  <tbody>\n",
       "    <tr>\n",
       "      <th>0</th>\n",
       "      <td>B200610306</td>\n",
       "      <td>AIR</td>\n",
       "      <td>2022-04-26 07:58:00</td>\n",
       "      <td>SHA</td>\n",
       "      <td>FEA</td>\n",
       "      <td>WHL</td>\n",
       "      <td>EASCARSHA</td>\n",
       "      <td>ACR</td>\n",
       "      <td>SLSDISC</td>\n",
       "      <td>2022-12-31 23:59:00</td>\n",
       "      <td>DLC</td>\n",
       "      <td>FES</td>\n",
       "      <td>JASDECOR</td>\n",
       "      <td>NaN</td>\n",
       "      <td>0</td>\n",
       "      <td>0</td>\n",
       "      <td>0</td>\n",
       "      <td>-476214.64</td>\n",
       "      <td>-476214.64</td>\n",
       "      <td>JAS FORWARDING GMBH - CORPORATE</td>\n",
       "    </tr>\n",
       "    <tr>\n",
       "      <th>1</th>\n",
       "      <td>B200610306</td>\n",
       "      <td>AIR</td>\n",
       "      <td>2022-04-26 07:58:00</td>\n",
       "      <td>SHA</td>\n",
       "      <td>FEA</td>\n",
       "      <td>WHL</td>\n",
       "      <td>EASCARSHA</td>\n",
       "      <td>ACR</td>\n",
       "      <td>SLSDISC</td>\n",
       "      <td>2022-12-31 23:59:00</td>\n",
       "      <td>SHA</td>\n",
       "      <td>FES</td>\n",
       "      <td>JASCZPRG</td>\n",
       "      <td>NaN</td>\n",
       "      <td>0</td>\n",
       "      <td>0</td>\n",
       "      <td>0</td>\n",
       "      <td>-141565.27</td>\n",
       "      <td>-141565.27</td>\n",
       "      <td>JAS FORWARDING (CZECH) S.R.O.</td>\n",
       "    </tr>\n",
       "    <tr>\n",
       "      <th>2</th>\n",
       "      <td>B200610306</td>\n",
       "      <td>AIR</td>\n",
       "      <td>2022-04-26 07:58:00</td>\n",
       "      <td>SHA</td>\n",
       "      <td>FEA</td>\n",
       "      <td>WHL</td>\n",
       "      <td>EASCARSHA</td>\n",
       "      <td>ACR</td>\n",
       "      <td>SLSDISC</td>\n",
       "      <td>2022-12-31 23:59:00</td>\n",
       "      <td>NGB</td>\n",
       "      <td>FEL</td>\n",
       "      <td>JASCZPRG</td>\n",
       "      <td>NaN</td>\n",
       "      <td>0</td>\n",
       "      <td>0</td>\n",
       "      <td>0</td>\n",
       "      <td>-98712.69</td>\n",
       "      <td>-98712.69</td>\n",
       "      <td>JAS FORWARDING (CZECH) S.R.O.</td>\n",
       "    </tr>\n",
       "  </tbody>\n",
       "</table>\n",
       "</div>"
      ],
      "text/plain": [
       "        Job # Trans               Opened Job Brn Job Dep Job Stat  \\\n",
       "0  B200610306   AIR  2022-04-26 07:58:00     SHA     FEA      WHL   \n",
       "1  B200610306   AIR  2022-04-26 07:58:00     SHA     FEA      WHL   \n",
       "2  B200610306   AIR  2022-04-26 07:58:00     SHA     FEA      WHL   \n",
       "\n",
       "  Local Client Type   Charge           Recognized Line Br Line Dep  \\\n",
       "0    EASCARSHA  ACR  SLSDISC  2022-12-31 23:59:00     DLC      FES   \n",
       "1    EASCARSHA  ACR  SLSDISC  2022-12-31 23:59:00     SHA      FES   \n",
       "2    EASCARSHA  ACR  SLSDISC  2022-12-31 23:59:00     NGB      FEL   \n",
       "\n",
       "  AR / AP Organization Invoice Number Revenue WIP Cost     Accrual  \\\n",
       "0             JASDECOR            NaN       0   0    0  -476214.64   \n",
       "1             JASCZPRG            NaN       0   0    0  -141565.27   \n",
       "2             JASCZPRG            NaN       0   0    0   -98712.69   \n",
       "\n",
       "   Job Profit        AR / AP Organization Name  \n",
       "0  -476214.64  JAS FORWARDING GMBH - CORPORATE  \n",
       "1  -141565.27    JAS FORWARDING (CZECH) S.R.O.  \n",
       "2   -98712.69    JAS FORWARDING (CZECH) S.R.O.  "
      ]
     },
     "execution_count": 7,
     "metadata": {},
     "output_type": "execute_result"
    }
   ],
   "source": [
    "import numpy as np\n",
    "import pandas as pd\n",
    "\n",
    "df = pd.read_csv(r'C:\\Users\\hanstan\\Desktop\\508977\\all\\mer\\ALL.csv', dtype=object)\n",
    "df.head(3)"
   ]
  },
  {
   "cell_type": "code",
   "execution_count": 8,
   "id": "56254cc9",
   "metadata": {},
   "outputs": [],
   "source": [
    "df[\"Revenue\"] = df[\"Revenue\"].astype(float)\n",
    "df[\"WIP\"] = df[\"WIP\"].astype(float)\n",
    "df[\"Cost\"] = df[\"Cost\"].astype(float)\n",
    "df[\"Accrual\"] = df[\"Accrual\"].astype(float)"
   ]
  },
  {
   "cell_type": "code",
   "execution_count": 9,
   "id": "3abafa46",
   "metadata": {},
   "outputs": [
    {
     "data": {
      "text/html": [
       "<div>\n",
       "<style scoped>\n",
       "    .dataframe tbody tr th:only-of-type {\n",
       "        vertical-align: middle;\n",
       "    }\n",
       "\n",
       "    .dataframe tbody tr th {\n",
       "        vertical-align: top;\n",
       "    }\n",
       "\n",
       "    .dataframe thead th {\n",
       "        text-align: right;\n",
       "    }\n",
       "</style>\n",
       "<table border=\"1\" class=\"dataframe\">\n",
       "  <thead>\n",
       "    <tr style=\"text-align: right;\">\n",
       "      <th></th>\n",
       "      <th>Job #</th>\n",
       "      <th>Trans</th>\n",
       "      <th>Opened</th>\n",
       "      <th>Job Brn</th>\n",
       "      <th>Job Dep</th>\n",
       "      <th>Job Stat</th>\n",
       "      <th>Local Client</th>\n",
       "      <th>Type</th>\n",
       "      <th>Charge</th>\n",
       "      <th>Recognized</th>\n",
       "      <th>...</th>\n",
       "      <th>Line Dep</th>\n",
       "      <th>AR / AP Organization</th>\n",
       "      <th>Invoice Number</th>\n",
       "      <th>Revenue</th>\n",
       "      <th>WIP</th>\n",
       "      <th>Cost</th>\n",
       "      <th>Accrual</th>\n",
       "      <th>Job Profit</th>\n",
       "      <th>AR / AP Organization Name</th>\n",
       "      <th>month</th>\n",
       "    </tr>\n",
       "  </thead>\n",
       "  <tbody>\n",
       "    <tr>\n",
       "      <th>0</th>\n",
       "      <td>B200610306</td>\n",
       "      <td>AIR</td>\n",
       "      <td>2022-04-26 07:58:00</td>\n",
       "      <td>SHA</td>\n",
       "      <td>FEA</td>\n",
       "      <td>WHL</td>\n",
       "      <td>EASCARSHA</td>\n",
       "      <td>ACR</td>\n",
       "      <td>SLSDISC</td>\n",
       "      <td>2022-12-31 23:59:00</td>\n",
       "      <td>...</td>\n",
       "      <td>FES</td>\n",
       "      <td>JASDECOR</td>\n",
       "      <td>NaN</td>\n",
       "      <td>0.0</td>\n",
       "      <td>0.0</td>\n",
       "      <td>0.0</td>\n",
       "      <td>-476214.64</td>\n",
       "      <td>-476214.64</td>\n",
       "      <td>JAS FORWARDING GMBH - CORPORATE</td>\n",
       "      <td>12</td>\n",
       "    </tr>\n",
       "    <tr>\n",
       "      <th>1</th>\n",
       "      <td>B200610306</td>\n",
       "      <td>AIR</td>\n",
       "      <td>2022-04-26 07:58:00</td>\n",
       "      <td>SHA</td>\n",
       "      <td>FEA</td>\n",
       "      <td>WHL</td>\n",
       "      <td>EASCARSHA</td>\n",
       "      <td>ACR</td>\n",
       "      <td>SLSDISC</td>\n",
       "      <td>2022-12-31 23:59:00</td>\n",
       "      <td>...</td>\n",
       "      <td>FES</td>\n",
       "      <td>JASCZPRG</td>\n",
       "      <td>NaN</td>\n",
       "      <td>0.0</td>\n",
       "      <td>0.0</td>\n",
       "      <td>0.0</td>\n",
       "      <td>-141565.27</td>\n",
       "      <td>-141565.27</td>\n",
       "      <td>JAS FORWARDING (CZECH) S.R.O.</td>\n",
       "      <td>12</td>\n",
       "    </tr>\n",
       "  </tbody>\n",
       "</table>\n",
       "<p>2 rows × 21 columns</p>\n",
       "</div>"
      ],
      "text/plain": [
       "        Job # Trans               Opened Job Brn Job Dep Job Stat  \\\n",
       "0  B200610306   AIR  2022-04-26 07:58:00     SHA     FEA      WHL   \n",
       "1  B200610306   AIR  2022-04-26 07:58:00     SHA     FEA      WHL   \n",
       "\n",
       "  Local Client Type   Charge           Recognized  ... Line Dep  \\\n",
       "0    EASCARSHA  ACR  SLSDISC  2022-12-31 23:59:00  ...      FES   \n",
       "1    EASCARSHA  ACR  SLSDISC  2022-12-31 23:59:00  ...      FES   \n",
       "\n",
       "  AR / AP Organization Invoice Number Revenue  WIP  Cost    Accrual  \\\n",
       "0             JASDECOR            NaN     0.0  0.0   0.0 -476214.64   \n",
       "1             JASCZPRG            NaN     0.0  0.0   0.0 -141565.27   \n",
       "\n",
       "   Job Profit        AR / AP Organization Name month  \n",
       "0  -476214.64  JAS FORWARDING GMBH - CORPORATE    12  \n",
       "1  -141565.27    JAS FORWARDING (CZECH) S.R.O.    12  \n",
       "\n",
       "[2 rows x 21 columns]"
      ]
     },
     "execution_count": 9,
     "metadata": {},
     "output_type": "execute_result"
    }
   ],
   "source": [
    "df[\"month\"] = df[\"Recognized\"].str.split(\"-\").str[1]\n",
    "df.head(2)"
   ]
  },
  {
   "cell_type": "code",
   "execution_count": 3,
   "id": "a4c8a936",
   "metadata": {},
   "outputs": [
    {
     "data": {
      "text/plain": [
       "398266"
      ]
     },
     "execution_count": 3,
     "metadata": {},
     "output_type": "execute_result"
    }
   ],
   "source": [
    "t12 = df.loc[df[\"Recognized\"].str.contains(\"2022-12\")]\n",
    "len(t12)"
   ]
  },
  {
   "cell_type": "code",
   "execution_count": 6,
   "id": "706cb73b",
   "metadata": {},
   "outputs": [],
   "source": [
    "# pivot\n",
    "pt = pd.pivot_table(df, index=['month'], values=[\"Revenue\", \"WIP\", \"Cost\", \"Accrual\"], aggfunc=np.sum)\n",
    "pt.to_excel(r'C:\\Users\\hanstan\\Desktop\\508977\\all\\mer\\pt1.xlsx', encoding=\"gbk\")"
   ]
  },
  {
   "cell_type": "code",
   "execution_count": 13,
   "id": "1209f0d6",
   "metadata": {},
   "outputs": [],
   "source": [
    "df_corr1 = df_corr.loc[~df_corr[\"科目代码\"].isna()]"
   ]
  },
  {
   "cell_type": "code",
   "execution_count": 12,
   "id": "0d07a0e7",
   "metadata": {},
   "outputs": [
    {
     "name": "stderr",
     "output_type": "stream",
     "text": [
      "C:\\Users\\hanstan\\AppData\\Local\\Temp\\ipykernel_21584\\2402382567.py:1: SettingWithCopyWarning: \n",
      "A value is trying to be set on a copy of a slice from a DataFrame.\n",
      "Try using .loc[row_indexer,col_indexer] = value instead\n",
      "\n",
      "See the caveats in the documentation: https://pandas.pydata.org/pandas-docs/stable/user_guide/indexing.html#returning-a-view-versus-a-copy\n",
      "  df_corr[\"借方\"] = df_corr[\"借方\"].astype(float)\n",
      "C:\\Users\\hanstan\\AppData\\Local\\Temp\\ipykernel_21584\\2402382567.py:2: SettingWithCopyWarning: \n",
      "A value is trying to be set on a copy of a slice from a DataFrame.\n",
      "Try using .loc[row_indexer,col_indexer] = value instead\n",
      "\n",
      "See the caveats in the documentation: https://pandas.pydata.org/pandas-docs/stable/user_guide/indexing.html#returning-a-view-versus-a-copy\n",
      "  df_corr[\"贷方\"] = df_corr[\"贷方\"].astype(float)\n"
     ]
    }
   ],
   "source": [
    "df_corr[\"借方\"] = df_corr[\"借方\"].astype(float)\n",
    "df_corr[\"贷方\"] = df_corr[\"贷方\"].astype(float)"
   ]
  },
  {
   "cell_type": "code",
   "execution_count": null,
   "id": "03213c9c",
   "metadata": {},
   "outputs": [],
   "source": [
    "# 借贷标识,按本位币计的金额\n",
    "df[\"Amount\"] = df[\"Amount\"].astype(float)\n",
    "# df[\"ACCOUNTED_CR\"] = df[\"ACCOUNTED_CR\"].astype(float)\n",
    "# df[\"a\"] = df[\"ACCOUNTED_CR\"] - df[\"ACCOUNTED_CR\"]\n",
    "# df.head(3)"
   ]
  },
  {
   "cell_type": "code",
   "execution_count": null,
   "id": "47699241",
   "metadata": {},
   "outputs": [],
   "source": [
    "def row_handler(row):  # 方向\n",
    "    if row['方向'] == '借':\n",
    "        return row[\"按本位币计的金额\"] * -1\n",
    "    if row['方向'] == '贷':\n",
    "        return row[\"按本位币计的金额\"]\n",
    "\n",
    "df['a'] = df.apply(row_handler, axis=1)\n",
    "tmp = df[\"a\"].sum()\n",
    "print(tmp)"
   ]
  },
  {
   "cell_type": "code",
   "execution_count": 15,
   "id": "d5df0a0a",
   "metadata": {},
   "outputs": [],
   "source": [
    "# pivot\n",
    "pt = pd.pivot_table(df_corr1, index=['科目代码', \"方向\"], values=[\"借方\", \"贷方\"], aggfunc=np.sum)\n",
    "pt.to_excel(r'C:\\Users\\hanstan\\Desktop\\中铁十二局集团有限公司母公司-需帮忙合并配平\\pt.xlsx', encoding=\"gbk\")"
   ]
  },
  {
   "cell_type": "code",
   "execution_count": 1,
   "id": "946738f2",
   "metadata": {},
   "outputs": [
    {
     "name": "stdout",
     "output_type": "stream",
     "text": [
      "\u001b[33myello\u001b[0m\n"
     ]
    }
   ],
   "source": [
    "print(\"\\033[33myello\\033[0m\")"
   ]
  },
  {
   "cell_type": "code",
   "execution_count": null,
   "id": "97cb53c7",
   "metadata": {},
   "outputs": [],
   "source": [
    "import numpy as np\n",
    "import pandas as pd\n",
    "\n",
    "df = pd.read_csv('C:\\\\Users\\\\hanstan\\\\Desktop\\\\422768\\\\pivot_last.csv')\n",
    "df.head()"
   ]
  },
  {
   "cell_type": "code",
   "execution_count": null,
   "id": "a84dd5ce",
   "metadata": {},
   "outputs": [],
   "source": [
    "new_df = df.fillna(0)\n",
    "new_df.head(10)"
   ]
  },
  {
   "cell_type": "code",
   "execution_count": null,
   "id": "efe824fa",
   "metadata": {},
   "outputs": [],
   "source": [
    "new_df.drop(df.index[[0]], inplace=True)"
   ]
  },
  {
   "cell_type": "code",
   "execution_count": null,
   "id": "cb9f9b0b",
   "metadata": {},
   "outputs": [],
   "source": [
    "new_df.head()"
   ]
  },
  {
   "cell_type": "code",
   "execution_count": null,
   "id": "90f8d1b7",
   "metadata": {},
   "outputs": [],
   "source": [
    "new_df['sum'] = new_df['sum'].astype(float)"
   ]
  },
  {
   "cell_type": "code",
   "execution_count": null,
   "id": "852df269",
   "metadata": {},
   "outputs": [],
   "source": [
    "new_df_sum = new_df['sum'].sum()\n",
    "new_df_sum"
   ]
  },
  {
   "cell_type": "code",
   "execution_count": null,
   "id": "5fb9e748",
   "metadata": {},
   "outputs": [],
   "source": []
  }
 ],
 "metadata": {
  "kernelspec": {
   "display_name": "Python 3.9.12 ('base')",
   "language": "python",
   "name": "python3"
  },
  "language_info": {
   "codemirror_mode": {
    "name": "ipython",
    "version": 3
   },
   "file_extension": ".py",
   "mimetype": "text/x-python",
   "name": "python",
   "nbconvert_exporter": "python",
   "pygments_lexer": "ipython3",
   "version": "3.9.12 (main, Apr  4 2022, 05:22:27) [MSC v.1916 64 bit (AMD64)]"
  },
  "vscode": {
   "interpreter": {
    "hash": "d1ea76a8853af5d989886780aa980a7007451d53aae4c1c1c03a6c2d170665cb"
   }
  }
 },
 "nbformat": 4,
 "nbformat_minor": 5
}
