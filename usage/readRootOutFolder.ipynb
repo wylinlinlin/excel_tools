{
 "cells": [
  {
   "cell_type": "code",
   "execution_count": null,
   "metadata": {},
   "outputs": [],
   "source": [
    "# 读取主文件夹内 子文件夹内 的所有文件\n",
    "import os\n",
    "import pandas as pd\n",
    "\n",
    "init_path = r\"C:\\Users\\Desktop\"\n",
    "for root, dirs, files in os.walk(init_path):\n",
    "    for file in files:\n",
    "        file_name = os.path.join(root, file)\n",
    "        df = pd.read_csv(f\"{file_name}\", dtype=object)\n",
    "        try:\n",
    "            df.to_excel(f\"{root}/{file[:-4]}.xlsx\", index=False, encoding=\"gbk\")\n",
    "            print(f\"{root}/{file[:-4]}.xlsx is saved.\")\n",
    "        except:\n",
    "            with open(f\"{init_path}/notes.txt\", \"a+\", encoding=\"utf-8\") as fp:\n",
    "                fp.write(f\"{root}/{file[:-4]}.csv\\n\")\n",
    "print(\"done.\")"
   ]
  },
  {
   "cell_type": "code",
   "execution_count": null,
   "metadata": {},
   "outputs": [],
   "source": []
  }
 ],
 "metadata": {
  "kernelspec": {
   "display_name": "Python 3.9.12 ('base')",
   "language": "python",
   "name": "python3"
  },
  "language_info": {
   "codemirror_mode": {
    "name": "ipython",
    "version": 3
   },
   "file_extension": ".py",
   "mimetype": "text/x-python",
   "name": "python",
   "nbconvert_exporter": "python",
   "pygments_lexer": "ipython3",
   "version": "3.9.12"
  },
  "orig_nbformat": 4,
  "vscode": {
   "interpreter": {
    "hash": "d1ea76a8853af5d989886780aa980a7007451d53aae4c1c1c03a6c2d170665cb"
   }
  }
 },
 "nbformat": 4,
 "nbformat_minor": 2
}
