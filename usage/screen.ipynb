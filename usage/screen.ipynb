{
 "cells": [
  {
   "cell_type": "code",
   "execution_count": null,
   "id": "6c618b1b",
   "metadata": {},
   "outputs": [],
   "source": [
    "import pandas as pd\n",
    "\n",
    "def df_screen(df,cd):\n",
    "    df_cy = df.copy() \n",
    "    idx_z = [True for i in df_cy.index]\n",
    "    orcom  = lambda a, b: [any([a[i], b[i]]) for i in range(len(a))] # 列表a与列表b两两 或 比较\n",
    "    addcom  = lambda a, b: [all([a[i], b[i]]) for i in range(len(a))] # 列表a与列表b两两 与 比较\n",
    "    for z in cd:\n",
    "        if isinstance(cd[z], list):\n",
    "            for index, c in enumerate(cd[z]):\n",
    "                if index != 0:\n",
    "                    idx_c = orcom(idx_c, list(df_cy[z] == c))\n",
    "                else:\n",
    "                    idx_c = list(df_cy[z] == c)\n",
    "        else:\n",
    "            idx_c = list(df_cy[z] == cd[z])\n",
    "        idx_z = addcom(idx_z, idx_c)\n",
    "    return df_cy.loc[idx_z, :]"
   ]
  },
  {
   "cell_type": "code",
   "execution_count": null,
   "id": "fbda4800",
   "metadata": {},
   "outputs": [],
   "source": [
    "import pandas as pd\n",
    "\n",
    "df = pd.read_csv(r'C:\\Users\\hanstan\\Desktop\\475929\\init_data\\Q1_4_other\\q1_q4_other.csv', dtype=object)\n",
    "df.head(2)"
   ]
  },
  {
   "cell_type": "code",
   "execution_count": null,
   "id": "c3c8486e",
   "metadata": {},
   "outputs": [],
   "source": [
    "df[\"借方金额\"] = df[\"借方金额\"].astype(float)\n",
    "df[\"贷方金额\"] = df[\"贷方金额\"].astype(float)\n",
    "df[\"借方金额(本位币)\"] = df[\"借方金额(本位币)\"].astype(float)\n",
    "df[\"贷方金额(本位币)\"] = df[\"贷方金额(本位币)\"].astype(float)"
   ]
  },
  {
   "cell_type": "code",
   "execution_count": null,
   "id": "7e078b00",
   "metadata": {},
   "outputs": [],
   "source": [
    "df_col = [col for col in df.columns]\n",
    "data_fr = pd.DataFrame(df, columns=df_col)"
   ]
  },
  {
   "cell_type": "code",
   "execution_count": null,
   "id": "2d400d06",
   "metadata": {
    "scrolled": true
   },
   "outputs": [],
   "source": [
    "with open(r'C:\\Users\\hanstan\\Desktop\\475929\\init_data\\code.txt', 'r', encoding='utf-8') as fp:\n",
    "        lines = fp.readlines()\n",
    "line_code = [line.strip(\"\\n\") for line in lines]\n",
    "print(len(line_code))\n",
    "print(line_code[0])"
   ]
  },
  {
   "cell_type": "code",
   "execution_count": null,
   "id": "fea7d4df",
   "metadata": {
    "collapsed": true
   },
   "outputs": [],
   "source": [
    "with open(r'C:\\Users\\hanstan\\Desktop\\475929\\init_data\\name.txt', 'r', encoding='utf-8') as fp:\n",
    "    lines = fp.readlines()\n",
    "line_name = [line.strip(\"\\n\") for line in lines]\n",
    "len(line_name)"
   ]
  },
  {
   "cell_type": "code",
   "execution_count": null,
   "id": "5f491e30",
   "metadata": {},
   "outputs": [],
   "source": [
    "# 将list里的type转为int\n",
    "line_code = list(map(int, line_code))\n",
    "len(line_code)"
   ]
  },
  {
   "cell_type": "code",
   "execution_count": null,
   "id": "94f234a3",
   "metadata": {},
   "outputs": [],
   "source": [
    "# 模糊查询\n",
    "from rich.progress import track\n",
    "\n",
    "file_list = list()\n",
    "save_name = \"JHKL\"\n",
    "init_path = r\"C:\\Users\\hanstan\\Desktop\\510137\\sub\"\n",
    "for code in track(range(len(line_code))):\n",
    "    new_df = df.loc[df[\"HFM Debit Account\"].str.contains(line_code[code])]\n",
    "    file_list.append(new_df)\n",
    "all_file = pd.concat(file_list, axis=0, ignore_index=False, sort=False)\n",
    "try:\n",
    "    all_file.to_excel(f\"{init_path}/{save_name}.xlsx\", index=False, encoding=\"gbk\")\n",
    "    print(f\"{save_name}.xlsx is merged.\")\n",
    "except:\n",
    "    all_file.to_csv(f\"{init_path}/{save_name}.csv\", index=False, encoding=\"utf-8\")\n",
    "    print(f\"{save_name}.csv is merged.\")"
   ]
  },
  {
   "cell_type": "code",
   "execution_count": null,
   "id": "1b247dda",
   "metadata": {},
   "outputs": [],
   "source": [
    "from rich.progress import track\n",
    "\n",
    "save_path = r\"C:\\Users\\hanstan\\Desktop\\475929\\init_data\\new_sub\"\n",
    "for i in track(range(len(line_code))):\n",
    "    cd = {\n",
    "        \"公司段\": line_code[i],\n",
    "        \"供应商名称\": line_name[i],\n",
    "    }\n",
    "    new_df = df_screen(data_fr, cd)\n",
    "    # dr = new_df[\"借方金额\"].sum()\n",
    "    # cr = new_df[\"贷方金额\"].sum()\n",
    "    # ldr = new_df[\"借方金额(本位币)\"].sum()\n",
    "    # lcr = new_df[\"贷方金额(本位币)\"].sum()\n",
    "    # # AmountinFC = new_df[\"AmountinFC\"].sum()\n",
    "    # with open(r\"C:\\Users\\hanstan\\Desktop\\475929\\new_download\\sub\\v2.txt\", \"a+\", encoding=\"utf-8\") as fp:\n",
    "    #     fp.write(f\"{line_code[i]}_{line_name[i]} dr {str(dr)} cr {str(cr)} ldr {str(ldr)} lcr {str(lcr)}\\n\")\n",
    "    try:\n",
    "        new_df.to_excel(f\"{save_path}/{line_code[i]}_{line_name[i]}.xlsx\", index=False, encoding=\"gbk\")\n",
    "        print(f\"{line_code[i]}.xlsx is saved.\")\n",
    "    except:\n",
    "        new_df.to_csv(f\"{save_path}/{line_code[i]}_{line_name[i]}.csv\", index=False, encoding=\"utf-8\")\n",
    "        print(f\"{line_code[i]}.csv is saved.\")"
   ]
  },
  {
   "cell_type": "code",
   "execution_count": null,
   "id": "d3927fc0",
   "metadata": {},
   "outputs": [],
   "source": [
    "df.columns"
   ]
  },
  {
   "cell_type": "code",
   "execution_count": null,
   "id": "10bf7296",
   "metadata": {},
   "outputs": [],
   "source": [
    "cd = {\n",
    "    # HFM Debit Account Credit\n",
    "    \"公司段\": line_code,\n",
    "    \"供应商名称\": line_name,\n",
    "}\n",
    "save_path = r\"C:\\Users\\hanstan\\Desktop\\501826\\sub\\0201\"\n",
    "name = \"HB_其他非流动资产\"\n",
    "new_df = df_screen(data_fr, cd)\n",
    "try:\n",
    "    new_df.to_excel(f\"{save_path}/{name}.xlsx\", index=False, encoding=\"gbk\")\n",
    "except:\n",
    "    new_df.to_csv(f\"{save_path}/{name}.csv\", index=False, encoding=\"utf-8\")\n",
    "print(\"done.\")"
   ]
  },
  {
   "cell_type": "code",
   "execution_count": null,
   "id": "af2b9ed5",
   "metadata": {},
   "outputs": [],
   "source": [
    "# -------------------------------------------------------------------------"
   ]
  },
  {
   "cell_type": "code",
   "execution_count": null,
   "id": "61d6d2fc",
   "metadata": {
    "scrolled": true
   },
   "outputs": [],
   "source": [
    "from rich.progress import track\n",
    "\n",
    "save_path = r\"C:\\Users\\hanstan\\Desktop\\501826\\MB\\9.2022年1-9月序时账\\mer\\save\"\n",
    "for i in track(range(len(line_code))):\n",
    "    cd = {\n",
    "        # \"entity_code\": line_code[i],\n",
    "        \"Account\": line_code[i],\n",
    "        #   \"销售组织名称\": df_lst[i],\n",
    "    }\n",
    "    new_df = df_screen(data_fr, cd)\n",
    "    try:\n",
    "        new_df.to_excel(f\"{save_path}/{str(line_code[i])}.xlsx\", index=False, encoding=\"gbk\")\n",
    "    except:\n",
    "        new_df.to_csv(f\"{save_path}/{str(line_code[i])}.csv\", index=False, encoding=\"utf-8\")"
   ]
  },
  {
   "cell_type": "code",
   "execution_count": null,
   "id": "2e3aad67",
   "metadata": {},
   "outputs": [],
   "source": [
    "df.columns"
   ]
  },
  {
   "cell_type": "code",
   "execution_count": null,
   "id": "023a1e0a",
   "metadata": {},
   "outputs": [],
   "source": []
  }
 ],
 "metadata": {
  "kernelspec": {
   "display_name": "Python 3 (ipykernel)",
   "language": "python",
   "name": "python3"
  },
  "language_info": {
   "codemirror_mode": {
    "name": "ipython",
    "version": 3
   },
   "file_extension": ".py",
   "mimetype": "text/x-python",
   "name": "python",
   "nbconvert_exporter": "python",
   "pygments_lexer": "ipython3",
   "version": "3.9.12"
  },
  "vscode": {
   "interpreter": {
    "hash": "d1ea76a8853af5d989886780aa980a7007451d53aae4c1c1c03a6c2d170665cb"
   }
  }
 },
 "nbformat": 4,
 "nbformat_minor": 5
}
