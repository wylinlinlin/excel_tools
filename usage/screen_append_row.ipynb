{
 "cells": [
  {
   "cell_type": "code",
   "execution_count": 1,
   "id": "c369f386",
   "metadata": {},
   "outputs": [],
   "source": [
    "import pandas as pd\n",
    "\n",
    "def df_screen(df,cd):\n",
    "    '''表筛选\n",
    "        df：pd.DataFrame\n",
    "        cd： {字段：[条件1,条件2],} 数据格式字典\n",
    "    '''\n",
    "    df_cy = df.copy() \n",
    "    idx_z = [ True for i in df_cy.index]\n",
    "    orcom  = lambda a,b: [ any([a[i],b[i]]) for i in range(len(a))] # 列表a与列表b两两 或 比较\n",
    "    addcom  = lambda a,b: [ all([a[i],b[i]]) for i in range(len(a))] # 列表a与列表b两两 与 比较\n",
    "    for z in cd:\n",
    "        if isinstance(cd[z],list):\n",
    "            for index,c in enumerate(cd[z]):\n",
    "                if index!=0:\n",
    "                    idx_c = orcom(idx_c,list(df_cy[z] == c))\n",
    "                else:\n",
    "                    idx_c = list(df_cy[z] == c)\n",
    "               \n",
    "        else:\n",
    "            idx_c = list(df_cy[z] == cd[z])\n",
    "        idx_z = addcom(idx_z ,idx_c)\n",
    "    return df_cy.loc[idx_z,:]"
   ]
  },
  {
   "cell_type": "code",
   "execution_count": null,
   "id": "03244018",
   "metadata": {
    "scrolled": true
   },
   "outputs": [],
   "source": [
    "import pandas as pd\n",
    "\n",
    "df = pd.read_excel('C:\\\\Users\\\\hanstan\\\\Desktop\\\\452747\\\\40110.xlsx')\n",
    "df"
   ]
  },
  {
   "cell_type": "code",
   "execution_count": null,
   "id": "bbc55381",
   "metadata": {},
   "outputs": [],
   "source": [
    "ls_col = [df.columns[i] for i in range(len(df.columns))]\n",
    "\n",
    "ls_col"
   ]
  },
  {
   "cell_type": "code",
   "execution_count": 5,
   "id": "4fc4dcf0",
   "metadata": {},
   "outputs": [],
   "source": [
    "data_fr = pd.DataFrame(df, columns=['Account',\n",
    " 'Type',\n",
    " 'Date',\n",
    " 'Accounting Period: Name',\n",
    " 'Document Number',\n",
    " 'Memo',\n",
    " 'Description',\n",
    " 'Name',\n",
    " 'Debit',\n",
    " 'Credit',\n",
    " 'Amount (Net)'])"
   ]
  },
  {
   "cell_type": "code",
   "execution_count": null,
   "id": "502e3b4a",
   "metadata": {},
   "outputs": [],
   "source": [
    "with open('C:\\\\Users\\\\hanstan\\\\Desktop\\\\452747\\\\name.txt', 'r', encoding='utf-8') as fp:\n",
    "        lines = fp.readlines()\n",
    "line_code = [line.strip('\\n') for line in lines]\n",
    "line_code"
   ]
  },
  {
   "cell_type": "code",
   "execution_count": null,
   "id": "f858f178",
   "metadata": {},
   "outputs": [],
   "source": [
    "# 在最后一行添加数据\n",
    "for i in range(len(line_code)):\n",
    "    cd = {\n",
    "        \"Document Number\": line_code[i]\n",
    "    }\n",
    "    new_df = df_screen(data_fr, cd)\n",
    "    dr = new_df['Debit'].sum()\n",
    "    cr = new_df['Credit'].sum()\n",
    "    dict_new = {\n",
    "        \"Document Number\": line_code[i], 'total_dr':dr, 'total_cr':cr\n",
    "    }\n",
    "    df_add = pd.DataFrame(dict_new, index=[0])\n",
    "    new_df = new_df.append(df_add, ignore_index=True)\n",
    "    try:\n",
    "        new_df.to_excel('C:/Users/hanstan/Desktop/452747/40110_new/' + line_code[i] + '.xlsx', index=False)\n",
    "        print(line_code[i] + '.xlsx is converted')\n",
    "    except:\n",
    "        new_df.to_csv('C:/Users/hanstan/Desktop/452747/40110_new/' + line_code[i] + '.csv', index=False)\n",
    "        print(line_code[i] + '.csv is converted')\n",
    "    else:\n",
    "        pass\n",
    "    \n",
    "print('done')"
   ]
  },
  {
   "cell_type": "code",
   "execution_count": null,
   "id": "48d07870",
   "metadata": {},
   "outputs": [],
   "source": [
    "for i in range(len(line_code)):\n",
    "    cd = {\n",
    "        \"Document Number\": line_code[i],  \n",
    "    }\n",
    "    try:\n",
    "        new_df = df_screen(data_fr, cd)\n",
    "        new_df.to_excel('C:/Users/hanstan/Desktop/443754/submit/都城/9_卢浮亚洲/公司/' + str(line_code[i]) + '_' + line_name[i] + '.xlsx', index=False)\n",
    "        print(str(i+1) + ' ' + str(line_code[i]) + '_' + line_name[i] + '.xlsx success')\n",
    "    except:\n",
    "        new_df = df_screen(data_fr, cd)\n",
    "        new_df.to_csv('C:/Users/hanstan/Desktop/443754/submit/都城/9_卢浮亚洲/公司/' + str(line_code[i]) + '_' + line_name[i] + '.csv', index=False)\n",
    "        print(str(i+1) + ' ' + str(line_code[i]) + '_' + line_name[i] + '.csv success')\n",
    "    else:\n",
    "        pass\n",
    "print('done!')"
   ]
  }
 ],
 "metadata": {
  "kernelspec": {
   "display_name": "Python 3.9.12 ('base')",
   "language": "python",
   "name": "python3"
  },
  "language_info": {
   "codemirror_mode": {
    "name": "ipython",
    "version": 3
   },
   "file_extension": ".py",
   "mimetype": "text/x-python",
   "name": "python",
   "nbconvert_exporter": "python",
   "pygments_lexer": "ipython3",
   "version": "3.9.12"
  },
  "vscode": {
   "interpreter": {
    "hash": "d1ea76a8853af5d989886780aa980a7007451d53aae4c1c1c03a6c2d170665cb"
   }
  }
 },
 "nbformat": 4,
 "nbformat_minor": 5
}
