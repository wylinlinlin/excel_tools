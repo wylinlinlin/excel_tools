{
 "cells": [
  {
   "cell_type": "code",
   "execution_count": 7,
   "id": "6253f53a",
   "metadata": {},
   "outputs": [
    {
     "data": {
      "text/html": [
       "<div>\n",
       "<style scoped>\n",
       "    .dataframe tbody tr th:only-of-type {\n",
       "        vertical-align: middle;\n",
       "    }\n",
       "\n",
       "    .dataframe tbody tr th {\n",
       "        vertical-align: top;\n",
       "    }\n",
       "\n",
       "    .dataframe thead th {\n",
       "        text-align: right;\n",
       "    }\n",
       "</style>\n",
       "<table border=\"1\" class=\"dataframe\">\n",
       "  <thead>\n",
       "    <tr style=\"text-align: right;\">\n",
       "      <th></th>\n",
       "      <th>被审计单位</th>\n",
       "      <th>审计期间</th>\n",
       "      <th>记账时间</th>\n",
       "      <th>会计年</th>\n",
       "      <th>会计月</th>\n",
       "      <th>凭证种类</th>\n",
       "      <th>凭证编号</th>\n",
       "      <th>分录号</th>\n",
       "      <th>业务说明</th>\n",
       "      <th>币种</th>\n",
       "      <th>...</th>\n",
       "      <th>制单人</th>\n",
       "      <th>制单日期</th>\n",
       "      <th>审核人</th>\n",
       "      <th>审核日期</th>\n",
       "      <th>备注01</th>\n",
       "      <th>备注02</th>\n",
       "      <th>备注03</th>\n",
       "      <th>备注04</th>\n",
       "      <th>备注05</th>\n",
       "      <th>备注06</th>\n",
       "    </tr>\n",
       "  </thead>\n",
       "  <tbody>\n",
       "    <tr>\n",
       "      <th>0</th>\n",
       "      <td>zh-CN_001号店武汉群星城_zh-CN_001号店主账簿_2022</td>\n",
       "      <td>2022年1月-12月</td>\n",
       "      <td>2022-12-31</td>\n",
       "      <td>2022</td>\n",
       "      <td>12</td>\n",
       "      <td>转账凭证</td>\n",
       "      <td>（转）-2022-12-0005</td>\n",
       "      <td>30</td>\n",
       "      <td>礼品卡充值</td>\n",
       "      <td>CNY</td>\n",
       "      <td>...</td>\n",
       "      <td>陆幸池</td>\n",
       "      <td>2022-12-31</td>\n",
       "      <td>浦莎莎</td>\n",
       "      <td>2023-01-16 09:02:04</td>\n",
       "      <td>NaN</td>\n",
       "      <td>NaN</td>\n",
       "      <td>NaN</td>\n",
       "      <td>NaN</td>\n",
       "      <td>NaN</td>\n",
       "      <td>NaN</td>\n",
       "    </tr>\n",
       "    <tr>\n",
       "      <th>1</th>\n",
       "      <td>zh-CN_001号店武汉群星城_zh-CN_001号店主账簿_2022</td>\n",
       "      <td>2022年1月-12月</td>\n",
       "      <td>2022-12-04</td>\n",
       "      <td>2022</td>\n",
       "      <td>12</td>\n",
       "      <td>转账凭证</td>\n",
       "      <td>（转）-2022-12-0008</td>\n",
       "      <td>125</td>\n",
       "      <td>202212销售收入(积分卡)</td>\n",
       "      <td>CNY</td>\n",
       "      <td>...</td>\n",
       "      <td>陆幸池</td>\n",
       "      <td>2022-12-04</td>\n",
       "      <td>浦莎莎</td>\n",
       "      <td>2023-01-16 09:02:04</td>\n",
       "      <td>NaN</td>\n",
       "      <td>NaN</td>\n",
       "      <td>NaN</td>\n",
       "      <td>NaN</td>\n",
       "      <td>NaN</td>\n",
       "      <td>NaN</td>\n",
       "    </tr>\n",
       "  </tbody>\n",
       "</table>\n",
       "<p>2 rows × 39 columns</p>\n",
       "</div>"
      ],
      "text/plain": [
       "                                  被审计单位         审计期间       记账时间   会计年 会计月  \\\n",
       "0  zh-CN_001号店武汉群星城_zh-CN_001号店主账簿_2022  2022年1月-12月 2022-12-31  2022  12   \n",
       "1  zh-CN_001号店武汉群星城_zh-CN_001号店主账簿_2022  2022年1月-12月 2022-12-04  2022  12   \n",
       "\n",
       "   凭证种类              凭证编号  分录号             业务说明   币种  ...  制单人       制单日期  \\\n",
       "0  转账凭证  （转）-2022-12-0005   30            礼品卡充值  CNY  ...  陆幸池 2022-12-31   \n",
       "1  转账凭证  （转）-2022-12-0008  125  202212销售收入(积分卡)  CNY  ...  陆幸池 2022-12-04   \n",
       "\n",
       "   审核人                审核日期 备注01 备注02 备注03 备注04 备注05 备注06  \n",
       "0  浦莎莎 2023-01-16 09:02:04  NaN  NaN  NaN  NaN  NaN  NaN  \n",
       "1  浦莎莎 2023-01-16 09:02:04  NaN  NaN  NaN  NaN  NaN  NaN  \n",
       "\n",
       "[2 rows x 39 columns]"
      ]
     },
     "execution_count": 7,
     "metadata": {},
     "output_type": "execute_result"
    }
   ],
   "source": [
    "import pandas as pd\n",
    "\n",
    "df = pd.read_excel(r'C:\\Users\\hanstan\\Desktop\\460519\\sub\\明应序时账.xlsx', dtype=object)\n",
    "df.head(2)"
   ]
  },
  {
   "cell_type": "code",
   "execution_count": 8,
   "id": "df711a54",
   "metadata": {},
   "outputs": [
    {
     "data": {
      "text/plain": [
       "225530"
      ]
     },
     "execution_count": 8,
     "metadata": {},
     "output_type": "execute_result"
    }
   ],
   "source": [
    "row_num = len(df)\n",
    "row_num"
   ]
  },
  {
   "cell_type": "code",
   "execution_count": 4,
   "id": "8985def9",
   "metadata": {},
   "outputs": [
    {
     "data": {
      "text/plain": [
       "136021.66666666666"
      ]
     },
     "execution_count": 4,
     "metadata": {},
     "output_type": "execute_result"
    }
   ],
   "source": [
    "row_num / 3"
   ]
  },
  {
   "cell_type": "code",
   "execution_count": 9,
   "id": "c8a935e8",
   "metadata": {},
   "outputs": [],
   "source": [
    "size = 120_000"
   ]
  },
  {
   "cell_type": "code",
   "execution_count": 10,
   "id": "5abf06a8",
   "metadata": {},
   "outputs": [
    {
     "name": "stdout",
     "output_type": "stream",
     "text": [
      "save file: 明应序时账_1.xlsx , data size: 120000\n",
      "save file: 明应序时账_2.xlsx , data size: 105530\n",
      "done.\n"
     ]
    }
   ],
   "source": [
    "j = 1\n",
    "name = '明应序时账'\n",
    "save_path = r\"C:\\Users\\hanstan\\Desktop\\460519\\sub\"\n",
    "for start in range(0, row_num, size):\n",
    "    stop = start + size\n",
    "    filename = \"{0}_{1}.xlsx\".format(name, j)\n",
    "    d = df[start: stop]\n",
    "    d.to_excel(f\"{save_path}/{filename}\", index=False, encoding=\"gbk\")\n",
    "    print(f\"save file: {filename} , data size: {str(len(d))}\")\n",
    "    j += 1\n",
    "print('done.')"
   ]
  },
  {
   "cell_type": "code",
   "execution_count": null,
   "id": "e97d1f69",
   "metadata": {},
   "outputs": [],
   "source": []
  }
 ],
 "metadata": {
  "kernelspec": {
   "display_name": "Python 3 (ipykernel)",
   "language": "python",
   "name": "python3"
  },
  "language_info": {
   "codemirror_mode": {
    "name": "ipython",
    "version": 3
   },
   "file_extension": ".py",
   "mimetype": "text/x-python",
   "name": "python",
   "nbconvert_exporter": "python",
   "pygments_lexer": "ipython3",
   "version": "3.9.12 (main, Apr  4 2022, 05:22:27) [MSC v.1916 64 bit (AMD64)]"
  },
  "vscode": {
   "interpreter": {
    "hash": "d1ea76a8853af5d989886780aa980a7007451d53aae4c1c1c03a6c2d170665cb"
   }
  }
 },
 "nbformat": 4,
 "nbformat_minor": 5
}
