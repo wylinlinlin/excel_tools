{
 "cells": [
  {
   "cell_type": "code",
   "execution_count": null,
   "id": "6253f53a",
   "metadata": {},
   "outputs": [],
   "source": [
    "import pandas as pd\n",
    "\n",
    "df = pd.read_excel(r'C:\\Users\\Desktop\\sub\\a.xlsx', dtype=object)\n",
    "df.head(2)"
   ]
  },
  {
   "cell_type": "code",
   "execution_count": null,
   "id": "df711a54",
   "metadata": {},
   "outputs": [],
   "source": [
    "row_num = len(df)\n",
    "row_num"
   ]
  },
  {
   "cell_type": "code",
   "execution_count": null,
   "id": "8985def9",
   "metadata": {},
   "outputs": [],
   "source": [
    "row_num / 3"
   ]
  },
  {
   "cell_type": "code",
   "execution_count": null,
   "id": "c8a935e8",
   "metadata": {},
   "outputs": [],
   "source": [
    "size = 120_000"
   ]
  },
  {
   "cell_type": "code",
   "execution_count": null,
   "id": "5abf06a8",
   "metadata": {},
   "outputs": [],
   "source": [
    "j = 1\n",
    "name = 'a'\n",
    "save_path = r\"C:\\Users\\Desktop\\sub\"\n",
    "for start in range(0, row_num, size):\n",
    "    stop = start + size\n",
    "    filename = \"{0}_{1}.xlsx\".format(name, j)\n",
    "    d = df[start: stop]\n",
    "    d.to_excel(f\"{save_path}/{filename}\", index=False, encoding=\"gbk\")\n",
    "    print(f\"save file: {filename} , data size: {str(len(d))}\")\n",
    "    j += 1\n",
    "print('done.')"
   ]
  },
  {
   "cell_type": "code",
   "execution_count": null,
   "id": "e97d1f69",
   "metadata": {},
   "outputs": [],
   "source": []
  }
 ],
 "metadata": {
  "kernelspec": {
   "display_name": "Python 3 (ipykernel)",
   "language": "python",
   "name": "python3"
  },
  "language_info": {
   "codemirror_mode": {
    "name": "ipython",
    "version": 3
   },
   "file_extension": ".py",
   "mimetype": "text/x-python",
   "name": "python",
   "nbconvert_exporter": "python",
   "pygments_lexer": "ipython3",
   "version": "3.9.12 (main, Apr  4 2022, 05:22:27) [MSC v.1916 64 bit (AMD64)]"
  },
  "vscode": {
   "interpreter": {
    "hash": "d1ea76a8853af5d989886780aa980a7007451d53aae4c1c1c03a6c2d170665cb"
   }
  }
 },
 "nbformat": 4,
 "nbformat_minor": 5
}
